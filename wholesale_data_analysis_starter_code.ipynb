{
 "cells": [
  {
   "cell_type": "markdown",
   "id": "dc0318d6",
   "metadata": {},
   "source": [
    "## Part 1: Explore the Data\n",
    "\n",
    "Import the data and use Pandas to learn more about the dataset."
   ]
  },
  {
   "cell_type": "code",
   "execution_count": 30,
   "id": "e076f57f",
   "metadata": {},
   "outputs": [
    {
     "data": {
      "text/html": [
       "<div>\n",
       "<style scoped>\n",
       "    .dataframe tbody tr th:only-of-type {\n",
       "        vertical-align: middle;\n",
       "    }\n",
       "\n",
       "    .dataframe tbody tr th {\n",
       "        vertical-align: top;\n",
       "    }\n",
       "\n",
       "    .dataframe thead th {\n",
       "        text-align: right;\n",
       "    }\n",
       "</style>\n",
       "<table border=\"1\" class=\"dataframe\">\n",
       "  <thead>\n",
       "    <tr style=\"text-align: right;\">\n",
       "      <th></th>\n",
       "      <th>first</th>\n",
       "      <th>last</th>\n",
       "      <th>job</th>\n",
       "      <th>phone</th>\n",
       "      <th>email</th>\n",
       "      <th>client_id</th>\n",
       "      <th>order_id</th>\n",
       "      <th>order_date</th>\n",
       "      <th>order_week</th>\n",
       "      <th>order_year</th>\n",
       "      <th>item_id</th>\n",
       "      <th>category</th>\n",
       "      <th>subcategory</th>\n",
       "      <th>unit_price</th>\n",
       "      <th>unit_cost</th>\n",
       "      <th>unit_weight</th>\n",
       "      <th>qty</th>\n",
       "      <th>line_number</th>\n",
       "    </tr>\n",
       "  </thead>\n",
       "  <tbody>\n",
       "    <tr>\n",
       "      <th>0</th>\n",
       "      <td>Donald</td>\n",
       "      <td>Harding</td>\n",
       "      <td>Immunologist</td>\n",
       "      <td>793-904-7725x39308</td>\n",
       "      <td>harding.donald.7185@sullivan.com</td>\n",
       "      <td>58515</td>\n",
       "      <td>8953482</td>\n",
       "      <td>2023-04-28</td>\n",
       "      <td>17</td>\n",
       "      <td>2023</td>\n",
       "      <td>EUD29711-63-6U</td>\n",
       "      <td>decor</td>\n",
       "      <td>wall art</td>\n",
       "      <td>1096.80</td>\n",
       "      <td>762.71</td>\n",
       "      <td>7.50</td>\n",
       "      <td>105</td>\n",
       "      <td>1</td>\n",
       "    </tr>\n",
       "    <tr>\n",
       "      <th>1</th>\n",
       "      <td>Tiffany</td>\n",
       "      <td>Myers</td>\n",
       "      <td>Music therapist</td>\n",
       "      <td>201.442.4543x942</td>\n",
       "      <td>myers.t.6537@ferguson-johnson.net</td>\n",
       "      <td>37609</td>\n",
       "      <td>8069089</td>\n",
       "      <td>2023-05-19</td>\n",
       "      <td>20</td>\n",
       "      <td>2023</td>\n",
       "      <td>XDA18116-89-4A</td>\n",
       "      <td>consumables</td>\n",
       "      <td>pens</td>\n",
       "      <td>24.95</td>\n",
       "      <td>15.09</td>\n",
       "      <td>1.49</td>\n",
       "      <td>21</td>\n",
       "      <td>0</td>\n",
       "    </tr>\n",
       "    <tr>\n",
       "      <th>2</th>\n",
       "      <td>Shannon</td>\n",
       "      <td>Watson</td>\n",
       "      <td>Immunologist</td>\n",
       "      <td>687.737.9424x8503</td>\n",
       "      <td>swatson8146@payne.net</td>\n",
       "      <td>57113</td>\n",
       "      <td>1902144</td>\n",
       "      <td>2023-01-29</td>\n",
       "      <td>4</td>\n",
       "      <td>2023</td>\n",
       "      <td>ABE59463-05-7E</td>\n",
       "      <td>software</td>\n",
       "      <td>project management</td>\n",
       "      <td>13.52</td>\n",
       "      <td>7.86</td>\n",
       "      <td>1.68</td>\n",
       "      <td>39</td>\n",
       "      <td>6</td>\n",
       "    </tr>\n",
       "    <tr>\n",
       "      <th>3</th>\n",
       "      <td>Nathan</td>\n",
       "      <td>Baker</td>\n",
       "      <td>Accounting technician</td>\n",
       "      <td>827-788-8123x012</td>\n",
       "      <td>bakernathan@benson.com</td>\n",
       "      <td>46554</td>\n",
       "      <td>9031802</td>\n",
       "      <td>2023-04-25</td>\n",
       "      <td>17</td>\n",
       "      <td>2023</td>\n",
       "      <td>ZMM00836-65-0C</td>\n",
       "      <td>consumables</td>\n",
       "      <td>pens</td>\n",
       "      <td>36.42</td>\n",
       "      <td>24.85</td>\n",
       "      <td>1.23</td>\n",
       "      <td>29</td>\n",
       "      <td>3</td>\n",
       "    </tr>\n",
       "    <tr>\n",
       "      <th>4</th>\n",
       "      <td>Christina</td>\n",
       "      <td>Schwartz</td>\n",
       "      <td>Chiropractor</td>\n",
       "      <td>265-829-3643</td>\n",
       "      <td>christinaschwartz9252@mcconnell.com</td>\n",
       "      <td>92089</td>\n",
       "      <td>1322274</td>\n",
       "      <td>2023-05-28</td>\n",
       "      <td>21</td>\n",
       "      <td>2023</td>\n",
       "      <td>BZX55559-12-3X</td>\n",
       "      <td>consumables</td>\n",
       "      <td>misc</td>\n",
       "      <td>195.10</td>\n",
       "      <td>108.17</td>\n",
       "      <td>46.43</td>\n",
       "      <td>20</td>\n",
       "      <td>1</td>\n",
       "    </tr>\n",
       "  </tbody>\n",
       "</table>\n",
       "</div>"
      ],
      "text/plain": [
       "       first      last                    job               phone                                email  client_id  order_id  order_date  order_week  order_year         item_id     category         subcategory  unit_price  unit_cost  unit_weight  qty  line_number\n",
       "0     Donald   Harding           Immunologist  793-904-7725x39308     harding.donald.7185@sullivan.com      58515   8953482  2023-04-28          17        2023  EUD29711-63-6U        decor            wall art     1096.80     762.71         7.50  105            1\n",
       "1    Tiffany     Myers        Music therapist    201.442.4543x942    myers.t.6537@ferguson-johnson.net      37609   8069089  2023-05-19          20        2023  XDA18116-89-4A  consumables                pens       24.95      15.09         1.49   21            0\n",
       "2    Shannon    Watson           Immunologist   687.737.9424x8503                swatson8146@payne.net      57113   1902144  2023-01-29           4        2023  ABE59463-05-7E     software  project management       13.52       7.86         1.68   39            6\n",
       "3     Nathan     Baker  Accounting technician    827-788-8123x012               bakernathan@benson.com      46554   9031802  2023-04-25          17        2023  ZMM00836-65-0C  consumables                pens       36.42      24.85         1.23   29            3\n",
       "4  Christina  Schwartz           Chiropractor        265-829-3643  christinaschwartz9252@mcconnell.com      92089   1322274  2023-05-28          21        2023  BZX55559-12-3X  consumables                misc      195.10     108.17        46.43   20            1"
      ]
     },
     "execution_count": 30,
     "metadata": {},
     "output_type": "execute_result"
    }
   ],
   "source": [
    "import pandas as pd\n",
    "\n",
    "df = pd.read_csv('Resources/client_dataset.csv')\n",
    "df.head()"
   ]
  },
  {
   "cell_type": "code",
   "execution_count": 31,
   "id": "b5c23ab9",
   "metadata": {},
   "outputs": [],
   "source": [
    "# I need these codes to show the result without wrapping and not limit the width\n",
    "pd.set_option('display.max_columns', None)  # Show all columns\n",
    "pd.set_option('display.width', None)        # Don't limit the width\n",
    "pd.set_option('display.max_rows', None)     # Show all rows\n",
    "pd.set_option('display.expand_frame_repr', False)  # Don't wrap to multiple lines\n"
   ]
  },
  {
   "cell_type": "code",
   "execution_count": 32,
   "id": "71b9bbd2",
   "metadata": {},
   "outputs": [
    {
     "data": {
      "text/plain": [
       "Index(['first', 'last', 'job', 'phone', 'email', 'client_id', 'order_id',\n",
       "       'order_date', 'order_week', 'order_year', 'item_id', 'category',\n",
       "       'subcategory', 'unit_price', 'unit_cost', 'unit_weight', 'qty',\n",
       "       'line_number'],\n",
       "      dtype='object')"
      ]
     },
     "execution_count": 32,
     "metadata": {},
     "output_type": "execute_result"
    }
   ],
   "source": [
    "# View the column names in the data\n",
    "df.columns"
   ]
  },
  {
   "cell_type": "code",
   "execution_count": 33,
   "id": "1d8d4900",
   "metadata": {},
   "outputs": [
    {
     "data": {
      "text/html": [
       "<div>\n",
       "<style scoped>\n",
       "    .dataframe tbody tr th:only-of-type {\n",
       "        vertical-align: middle;\n",
       "    }\n",
       "\n",
       "    .dataframe tbody tr th {\n",
       "        vertical-align: top;\n",
       "    }\n",
       "\n",
       "    .dataframe thead th {\n",
       "        text-align: right;\n",
       "    }\n",
       "</style>\n",
       "<table border=\"1\" class=\"dataframe\">\n",
       "  <thead>\n",
       "    <tr style=\"text-align: right;\">\n",
       "      <th></th>\n",
       "      <th>client_id</th>\n",
       "      <th>order_id</th>\n",
       "      <th>order_week</th>\n",
       "      <th>order_year</th>\n",
       "      <th>unit_price</th>\n",
       "      <th>unit_cost</th>\n",
       "      <th>unit_weight</th>\n",
       "      <th>qty</th>\n",
       "      <th>line_number</th>\n",
       "    </tr>\n",
       "  </thead>\n",
       "  <tbody>\n",
       "    <tr>\n",
       "      <th>count</th>\n",
       "      <td>54639.000000</td>\n",
       "      <td>5.463900e+04</td>\n",
       "      <td>54639.000000</td>\n",
       "      <td>54639.000000</td>\n",
       "      <td>54639.000000</td>\n",
       "      <td>54639.000000</td>\n",
       "      <td>54639.000000</td>\n",
       "      <td>5.463900e+04</td>\n",
       "      <td>54639.000000</td>\n",
       "    </tr>\n",
       "    <tr>\n",
       "      <th>mean</th>\n",
       "      <td>54837.869416</td>\n",
       "      <td>5.470190e+06</td>\n",
       "      <td>11.359139</td>\n",
       "      <td>2022.993064</td>\n",
       "      <td>136.267207</td>\n",
       "      <td>99.446073</td>\n",
       "      <td>5.004116</td>\n",
       "      <td>5.702646e+02</td>\n",
       "      <td>2.979667</td>\n",
       "    </tr>\n",
       "    <tr>\n",
       "      <th>std</th>\n",
       "      <td>25487.438231</td>\n",
       "      <td>2.599807e+06</td>\n",
       "      <td>7.023499</td>\n",
       "      <td>0.082997</td>\n",
       "      <td>183.873135</td>\n",
       "      <td>133.164267</td>\n",
       "      <td>5.326599</td>\n",
       "      <td>1.879552e+04</td>\n",
       "      <td>2.436320</td>\n",
       "    </tr>\n",
       "    <tr>\n",
       "      <th>min</th>\n",
       "      <td>10033.000000</td>\n",
       "      <td>1.000886e+06</td>\n",
       "      <td>1.000000</td>\n",
       "      <td>2022.000000</td>\n",
       "      <td>0.010000</td>\n",
       "      <td>0.010000</td>\n",
       "      <td>0.000000</td>\n",
       "      <td>0.000000e+00</td>\n",
       "      <td>0.000000</td>\n",
       "    </tr>\n",
       "    <tr>\n",
       "      <th>25%</th>\n",
       "      <td>33593.000000</td>\n",
       "      <td>3.196372e+06</td>\n",
       "      <td>6.000000</td>\n",
       "      <td>2023.000000</td>\n",
       "      <td>20.800000</td>\n",
       "      <td>14.840000</td>\n",
       "      <td>1.450000</td>\n",
       "      <td>3.200000e+01</td>\n",
       "      <td>1.000000</td>\n",
       "    </tr>\n",
       "    <tr>\n",
       "      <th>50%</th>\n",
       "      <td>53305.000000</td>\n",
       "      <td>5.496966e+06</td>\n",
       "      <td>11.000000</td>\n",
       "      <td>2023.000000</td>\n",
       "      <td>68.310000</td>\n",
       "      <td>49.890000</td>\n",
       "      <td>3.240000</td>\n",
       "      <td>6.800000e+01</td>\n",
       "      <td>3.000000</td>\n",
       "    </tr>\n",
       "    <tr>\n",
       "      <th>75%</th>\n",
       "      <td>78498.000000</td>\n",
       "      <td>7.733869e+06</td>\n",
       "      <td>17.000000</td>\n",
       "      <td>2023.000000</td>\n",
       "      <td>173.160000</td>\n",
       "      <td>125.570000</td>\n",
       "      <td>6.890000</td>\n",
       "      <td>1.700000e+02</td>\n",
       "      <td>5.000000</td>\n",
       "    </tr>\n",
       "    <tr>\n",
       "      <th>max</th>\n",
       "      <td>99984.000000</td>\n",
       "      <td>9.998480e+06</td>\n",
       "      <td>52.000000</td>\n",
       "      <td>2023.000000</td>\n",
       "      <td>1396.230000</td>\n",
       "      <td>846.270000</td>\n",
       "      <td>46.430000</td>\n",
       "      <td>3.958244e+06</td>\n",
       "      <td>9.000000</td>\n",
       "    </tr>\n",
       "  </tbody>\n",
       "</table>\n",
       "</div>"
      ],
      "text/plain": [
       "          client_id      order_id    order_week    order_year    unit_price     unit_cost   unit_weight           qty   line_number\n",
       "count  54639.000000  5.463900e+04  54639.000000  54639.000000  54639.000000  54639.000000  54639.000000  5.463900e+04  54639.000000\n",
       "mean   54837.869416  5.470190e+06     11.359139   2022.993064    136.267207     99.446073      5.004116  5.702646e+02      2.979667\n",
       "std    25487.438231  2.599807e+06      7.023499      0.082997    183.873135    133.164267      5.326599  1.879552e+04      2.436320\n",
       "min    10033.000000  1.000886e+06      1.000000   2022.000000      0.010000      0.010000      0.000000  0.000000e+00      0.000000\n",
       "25%    33593.000000  3.196372e+06      6.000000   2023.000000     20.800000     14.840000      1.450000  3.200000e+01      1.000000\n",
       "50%    53305.000000  5.496966e+06     11.000000   2023.000000     68.310000     49.890000      3.240000  6.800000e+01      3.000000\n",
       "75%    78498.000000  7.733869e+06     17.000000   2023.000000    173.160000    125.570000      6.890000  1.700000e+02      5.000000\n",
       "max    99984.000000  9.998480e+06     52.000000   2023.000000   1396.230000    846.270000     46.430000  3.958244e+06      9.000000"
      ]
     },
     "execution_count": 33,
     "metadata": {},
     "output_type": "execute_result"
    }
   ],
   "source": [
    "# Use the describe function to gather some basic statistics\n",
    "df.describe() #describe the data don't forget the () at the end"
   ]
  },
  {
   "cell_type": "code",
   "execution_count": 34,
   "id": "bc0f4172",
   "metadata": {},
   "outputs": [
    {
     "name": "stdout",
     "output_type": "stream",
     "text": [
      "<class 'pandas.core.frame.DataFrame'>\n",
      "RangeIndex: 54639 entries, 0 to 54638\n",
      "Data columns (total 18 columns):\n",
      " #   Column       Non-Null Count  Dtype  \n",
      "---  ------       --------------  -----  \n",
      " 0   first        54639 non-null  object \n",
      " 1   last         54639 non-null  object \n",
      " 2   job          54639 non-null  object \n",
      " 3   phone        54639 non-null  object \n",
      " 4   email        54639 non-null  object \n",
      " 5   client_id    54639 non-null  int64  \n",
      " 6   order_id     54639 non-null  int64  \n",
      " 7   order_date   54639 non-null  object \n",
      " 8   order_week   54639 non-null  int64  \n",
      " 9   order_year   54639 non-null  int64  \n",
      " 10  item_id      54639 non-null  object \n",
      " 11  category     54639 non-null  object \n",
      " 12  subcategory  54639 non-null  object \n",
      " 13  unit_price   54639 non-null  float64\n",
      " 14  unit_cost    54639 non-null  float64\n",
      " 15  unit_weight  54639 non-null  float64\n",
      " 16  qty          54639 non-null  int64  \n",
      " 17  line_number  54639 non-null  int64  \n",
      "dtypes: float64(3), int64(6), object(9)\n",
      "memory usage: 7.5+ MB\n"
     ]
    }
   ],
   "source": [
    "# Use the info function to gather some basic information\n",
    "# Use this space to do any additional research\n",
    "# and familiarize yourself with the data.\n",
    "df.info() #info about the data type. Ie: object(aka string/mixed types), integer, float, bool, etc\n"
   ]
  },
  {
   "cell_type": "code",
   "execution_count": 35,
   "id": "b24b53cc",
   "metadata": {},
   "outputs": [
    {
     "data": {
      "text/plain": [
       "category\n",
       "consumables    23538\n",
       "furniture      11915\n",
       "software        8400\n",
       "Name: count, dtype: int64"
      ]
     },
     "execution_count": 35,
     "metadata": {},
     "output_type": "execute_result"
    }
   ],
   "source": [
    "# What three item categories had the most entries?\n",
    "# Get counts of each category in the 'category' column and sort descending then do head(3) to give me the top 3\n",
    "category_counts = df['category'].value_counts().sort_values(ascending=False)\n",
    "category_counts.head(3)\n"
   ]
  },
  {
   "cell_type": "code",
   "execution_count": 36,
   "id": "6a11f04f",
   "metadata": {},
   "outputs": [
    {
     "data": {
      "text/html": [
       "<div>\n",
       "<style scoped>\n",
       "    .dataframe tbody tr th:only-of-type {\n",
       "        vertical-align: middle;\n",
       "    }\n",
       "\n",
       "    .dataframe tbody tr th {\n",
       "        vertical-align: top;\n",
       "    }\n",
       "\n",
       "    .dataframe thead th {\n",
       "        text-align: right;\n",
       "    }\n",
       "</style>\n",
       "<table border=\"1\" class=\"dataframe\">\n",
       "  <thead>\n",
       "    <tr style=\"text-align: right;\">\n",
       "      <th></th>\n",
       "      <th>subcategory</th>\n",
       "      <th>count</th>\n",
       "    </tr>\n",
       "    <tr>\n",
       "      <th>category</th>\n",
       "      <th></th>\n",
       "      <th></th>\n",
       "    </tr>\n",
       "  </thead>\n",
       "  <tbody>\n",
       "    <tr>\n",
       "      <th>consumables</th>\n",
       "      <td>bathroom supplies</td>\n",
       "      <td>6424</td>\n",
       "    </tr>\n",
       "    <tr>\n",
       "      <th>furniture</th>\n",
       "      <td>tables</td>\n",
       "      <td>4540</td>\n",
       "    </tr>\n",
       "    <tr>\n",
       "      <th>software</th>\n",
       "      <td>accounting</td>\n",
       "      <td>3756</td>\n",
       "    </tr>\n",
       "  </tbody>\n",
       "</table>\n",
       "</div>"
      ],
      "text/plain": [
       "                   subcategory  count\n",
       "category                             \n",
       "consumables  bathroom supplies   6424\n",
       "furniture               tables   4540\n",
       "software            accounting   3756"
      ]
     },
     "execution_count": 36,
     "metadata": {},
     "output_type": "execute_result"
    }
   ],
   "source": [
    "#### EXTRA ####\n",
    "# Get the max count for the top 3 category then give me the highest count from its subcategory \n",
    "\n",
    "category_top3_df = df[df['category'].isin(category_counts.head(3).index)]\n",
    "\n",
    "max_counts = (category_top3_df.groupby(['category', 'subcategory']) #takes the DF and groups it by both category and subcat together\n",
    "              .size() # counts how many times each category-subcategory pair appears\n",
    "              .reset_index(name='count') #converts the grouped data back into a regular DF, name the count column  = 'count'\n",
    "              .sort_values('count', ascending=False)\n",
    "              .groupby('category') # group by category\n",
    "              .first())\n",
    "\n",
    "\n",
    "max_counts"
   ]
  },
  {
   "cell_type": "code",
   "execution_count": 37,
   "id": "f70fc053",
   "metadata": {},
   "outputs": [
    {
     "name": "stdout",
     "output_type": "stream",
     "text": [
      "subcategory\n",
      "bathroom supplies    6424\n",
      "Name: count, dtype: int64\n"
     ]
    }
   ],
   "source": [
    "# For the category with the most entries, which subcategory had the most entries?\n",
    "# this gives you the bathroom supplies subcategory from the consumables category\n",
    "consumables_subcats = df[df['category'] == 'consumables']['subcategory'].value_counts()\n",
    "print(consumables_subcats.head(1))"
   ]
  },
  {
   "cell_type": "code",
   "execution_count": 38,
   "id": "e5417c5c",
   "metadata": {},
   "outputs": [
    {
     "data": {
      "text/plain": [
       "client_id\n",
       "33615    220\n",
       "66037    211\n",
       "46820    209\n",
       "38378    207\n",
       "24741    207\n",
       "Name: count, dtype: int64"
      ]
     },
     "execution_count": 38,
     "metadata": {},
     "output_type": "execute_result"
    }
   ],
   "source": [
    "# Which five clients had the most entries in the data?\n",
    "df['client_id'].value_counts().sort_values(ascending=False).head(5)"
   ]
  },
  {
   "cell_type": "code",
   "execution_count": 39,
   "id": "5f54e2cf",
   "metadata": {},
   "outputs": [
    {
     "data": {
      "text/plain": [
       "[33615, 66037, 46820, 38378, 24741]"
      ]
     },
     "execution_count": 39,
     "metadata": {},
     "output_type": "execute_result"
    }
   ],
   "source": [
    "# Store the client ids of those top 5 clients in a list.\n",
    "top_five_clients_df = df['client_id'].value_counts().sort_values(ascending=False).head(5).index.tolist()\n",
    "\n",
    "top_five_clients_df\n"
   ]
  },
  {
   "cell_type": "code",
   "execution_count": 40,
   "id": "6c560104",
   "metadata": {},
   "outputs": [
    {
     "data": {
      "text/plain": [
       "64313"
      ]
     },
     "execution_count": 40,
     "metadata": {},
     "output_type": "execute_result"
    }
   ],
   "source": [
    "# How many total units (the qty column) did the client with the most entries order?\n",
    "\n",
    "df[df['client_id'] == 33615]['qty'].sum()"
   ]
  },
  {
   "cell_type": "code",
   "execution_count": 41,
   "id": "59a985e9",
   "metadata": {},
   "outputs": [
    {
     "name": "stdout",
     "output_type": "stream",
     "text": [
      "\n",
      "Top 5 clients by number of entries:\n",
      "client_id\n",
      "33615    220\n",
      "66037    211\n",
      "46820    209\n",
      "38378    207\n",
      "24741    207\n",
      "Name: count, dtype: int64\n",
      "\n",
      "Top 5 client IDs:\n",
      "[33615, 66037, 46820, 38378, 24741]\n",
      "\n",
      "Total units ordered by client 33615:\n",
      "64313\n"
     ]
    }
   ],
   "source": [
    "#### EXTRA ####\n",
    "# Better way to structure this without doing the above, if you don't want to put client 33615, this way is more streamlined\n",
    "top_clients = df['client_id'].value_counts().head()\n",
    "print(\"\\nTop 5 clients by number of entries:\")\n",
    "print(top_clients)\n",
    "\n",
    "top_client_ids = top_clients.index.tolist()[:5]\n",
    "print(\"\\nTop 5 client IDs:\")\n",
    "print(top_client_ids)\n",
    "\n",
    "top_client_units = df[df['client_id'] == top_client_ids[0]]['qty'].sum()\n",
    "print(f\"\\nTotal units ordered by client {top_client_ids[0]}:\")\n",
    "print(top_client_units)"
   ]
  },
  {
   "cell_type": "markdown",
   "id": "257fcd7d",
   "metadata": {},
   "source": [
    "## Part 2: Transform the Data\n",
    "Do we know that this client spent the more money than client 66037? If not, how would we find out? Transform the data using the steps below to prepare it for analysis."
   ]
  },
  {
   "cell_type": "code",
   "execution_count": 42,
   "id": "4c27f783",
   "metadata": {},
   "outputs": [
    {
     "name": "stdout",
     "output_type": "stream",
     "text": [
      "   unit_price  qty   subtotal\n",
      "0     1096.80  105  115164.00\n",
      "1       24.95   21     523.95\n"
     ]
    }
   ],
   "source": [
    "# Create a column that calculates the subtotal for each line using the unit_price and the qty\n",
    "# first way is combining a print statement in one row, where you define what the math logic is then call out the rest\n",
    "# print(df.assign(subtotal=df['unit_price'] * df['qty'])[['unit_price', 'qty', 'subtotal']].head(2))\n",
    "\n",
    "# or you can use another approach where you define what subtotal logic is then call out all the columns\n",
    "# both ways give the same answer\n",
    "df['subtotal'] = df['unit_price'] * df['qty']\n",
    "print(df[['unit_price', 'qty', 'subtotal']].head(2))    \n",
    "\n"
   ]
  },
  {
   "cell_type": "code",
   "execution_count": 43,
   "id": "e80a9354",
   "metadata": {},
   "outputs": [
    {
     "name": "stdout",
     "output_type": "stream",
     "text": [
      "   unit_price  unit_weight  qty  total_weight  shipping_price\n",
      "0     1096.80         7.50  105        787.50         5512.50\n",
      "1       24.95         1.49   21         31.29          312.90\n",
      "2       13.52         1.68   39         65.52          458.64\n"
     ]
    }
   ],
   "source": [
    "# Create a column for shipping price.\n",
    "# Assume a shipping price of $7 per pound for orders over 50 pounds and $10 per pound for items 50 pounds or under.\n",
    "\n",
    "# first I need to get the total weight calculation\n",
    "df['total_weight'] = df['unit_weight'] * df['qty']\n",
    "\n",
    "# then put the conditional logic \n",
    "df['shipping_price'] = round(df['total_weight'].apply(lambda x: 7 if x > 50 else 10) * df['total_weight'],2)\n",
    "\n",
    "# show me the columns as result of the above logic\n",
    "#print(df[['unit_price', 'unit_weight', 'qty', 'total_weight', 'shipping_price']])\n",
    "\n",
    "# just give the top 3 rows\n",
    "print(df[['unit_price', 'unit_weight', 'qty', 'total_weight', 'shipping_price']].head(3))"
   ]
  },
  {
   "cell_type": "code",
   "execution_count": 44,
   "id": "46f9e364",
   "metadata": {},
   "outputs": [
    {
     "name": "stdout",
     "output_type": "stream",
     "text": [
      "    subtotal  shipping_price  line_price\n",
      "0  115164.00         5512.50   131839.08\n",
      "1     523.95          312.90      914.26\n",
      "2     527.28          458.64     1077.12\n"
     ]
    }
   ],
   "source": [
    "# Create a column for the total price using the subtotal and the shipping price along with a sales tax of 9.25%\n",
    "df['line_price'] = round((df['subtotal'] + df['shipping_price'])*1.0925,2)\n",
    "\n",
    "# show me the columns as result of the above logic\n",
    "#print(df[['subtotal', 'shipping_price', 'line_price']])\n",
    "\n",
    "# just give the top 3 rows to show results\n",
    "print(df[['subtotal', 'shipping_price', 'line_price']].head(3))"
   ]
  },
  {
   "cell_type": "code",
   "execution_count": 57,
   "id": "2ba55313",
   "metadata": {},
   "outputs": [
    {
     "name": "stdout",
     "output_type": "stream",
     "text": [
      "     first     last              job               phone                              email  client_id  order_date  order_week  order_year  unit_price  unit_cost  unit_weight  qty  line_number   subtotal  total_weight  shipping_price  line_price  line_cost\n",
      "0   Donald  Harding     Immunologist  793-904-7725x39308   harding.donald.7185@sullivan.com      58515  2023-04-28          17        2023     1096.80     762.71         7.50  105            1  115164.00        787.50         5512.50   131839.08   85597.05\n",
      "1  Tiffany    Myers  Music therapist    201.442.4543x942  myers.t.6537@ferguson-johnson.net      37609  2023-05-19          20        2023       24.95      15.09         1.49   21            0     523.95         31.29          312.90      914.26     629.79\n",
      "2  Shannon   Watson     Immunologist   687.737.9424x8503              swatson8146@payne.net      57113  2023-01-29           4        2023       13.52       7.86         1.68   39            6     527.28         65.52          458.64     1077.12     765.18\n"
     ]
    }
   ],
   "source": [
    "# Create a column for the cost of each line using unit cost, qty, and\n",
    "# shipping price (assume the shipping cost is exactly what is charged to the client).\n",
    "\n",
    "df['line_cost'] = df['unit_cost'] * df['qty'] + df['shipping_price']\n",
    "\n",
    "print(df[['first', 'last', 'job', 'phone', 'email', 'client_id',\n",
    "          'order_date', 'order_week', 'order_year', 'unit_price', \n",
    "          'unit_cost', 'unit_weight', 'qty', 'line_number', 'subtotal', \n",
    "          'total_weight', 'shipping_price', 'line_price', 'line_cost']].head(3))"
   ]
  },
  {
   "cell_type": "code",
   "execution_count": 47,
   "id": "9c7a379a",
   "metadata": {},
   "outputs": [
    {
     "name": "stdout",
     "output_type": "stream",
     "text": [
      "     first     last              job               phone                              email  client_id  order_id  order_date  order_week  order_year         item_id     category         subcategory  unit_price  unit_cost  unit_weight  qty  line_number   subtotal  total_weight  shipping_price  line_price  line_cost  line_profit\n",
      "0   Donald  Harding     Immunologist  793-904-7725x39308   harding.donald.7185@sullivan.com      58515   8953482  2023-04-28          17        2023  EUD29711-63-6U        decor            wall art     1096.80     762.71         7.50  105            1  115164.00        787.50         5512.50   131839.08   85597.05     46242.03\n",
      "1  Tiffany    Myers  Music therapist    201.442.4543x942  myers.t.6537@ferguson-johnson.net      37609   8069089  2023-05-19          20        2023  XDA18116-89-4A  consumables                pens       24.95      15.09         1.49   21            0     523.95         31.29          312.90      914.26     629.79       284.47\n",
      "2  Shannon   Watson     Immunologist   687.737.9424x8503              swatson8146@payne.net      57113   1902144  2023-01-29           4        2023  ABE59463-05-7E     software  project management       13.52       7.86         1.68   39            6     527.28         65.52          458.64     1077.12     765.18       311.94\n"
     ]
    }
   ],
   "source": [
    "# Create a column for the profit of each line using line cost and line price\n",
    "df['line_profit'] = df['line_price'] - df['line_cost']\n",
    "\n",
    "#These set_option are already defined at the very top of the code, so you don't need to redefine them. But if you haven't make sure you do the two lines of codes below.\n",
    "#pd.set_option('display.max_columns', None)\n",
    "#pd.set_option('display.width', None)\n",
    "\n",
    "print(df.head(3))"
   ]
  },
  {
   "cell_type": "markdown",
   "id": "ef6f62b1",
   "metadata": {},
   "source": [
    "## Part 3: Confirm your work\n",
    "You have email receipts showing that the total prices for 3 orders. Confirm that your calculations match the receipts. Remember, each order has multiple lines.\n",
    "\n",
    "Order ID 2742071 had a total price of \\$152,811.89\n",
    "\n",
    "Order ID 2173913 had a total price of \\$162,388.71\n",
    "\n",
    "Order ID 6128929 had a total price of \\$923,441.25\n"
   ]
  },
  {
   "cell_type": "code",
   "execution_count": 48,
   "id": "58e5e535",
   "metadata": {},
   "outputs": [
    {
     "name": "stdout",
     "output_type": "stream",
     "text": [
      "       order_id  line_price\n",
      "3446    2742071     6629.69\n",
      "6287    2742071   135889.52\n",
      "20623   2742071     2069.02\n",
      "23840   2742071     1273.61\n",
      "24671   2742071     1976.73\n",
      "42470   2742071     4973.32\n",
      "Order ID 2742071 had a total price of $152,811.89\n",
      "----------------------------------------------------------------------------------------------------\n",
      "       order_id  line_price\n",
      "627     2173913     9856.86\n",
      "14089   2173913      538.03\n",
      "14938   2173913     7092.74\n",
      "14962   2173913     5076.03\n",
      "22004   2173913     9640.08\n",
      "27713   2173913     4297.41\n",
      "53155   2173913   125887.56\n",
      "Order ID 2173913 had a total price of $162,388.71\n",
      "----------------------------------------------------------------------------------------------------\n",
      "       order_id  line_price\n",
      "3422    6128929    48763.65\n",
      "13672   6128929     8121.21\n",
      "14517   6128929   180327.76\n",
      "16295   6128929     4133.06\n",
      "21141   6128929     1713.39\n",
      "37265   6128929     2144.96\n",
      "37949   6128929   367345.26\n",
      "38542   6128929      173.84\n",
      "48834   6128929   102182.66\n",
      "49353   6128929   208535.46\n",
      "Order ID 6128929 had a total price of $923,441.25\n",
      "----------------------------------------------------------------------------------------------------\n"
     ]
    }
   ],
   "source": [
    "# Check your work against the totals above\n",
    "\n",
    "\"\"\"\n",
    "# Test with a simpler code:\n",
    "# I want to see the details first and then the total for each of the order id 2742071:\n",
    "print(df[df['order_id'] == 2742071][['order_id', 'line_price']])\n",
    "print(f\"Order ID {2742071} had a total price of ${df[df['order_id'] == 2742071]['line_price'].sum():,.2f}\")\n",
    "print(\"------------------------------------------------------------------------------------------------------------------------\")\n",
    "\"\"\"\n",
    "\n",
    "# Define the order IDs and columns we want to see\n",
    "order_ids = [2742071, 2173913, 6128929]\n",
    "columns_to_show = ['order_id', 'line_price']\n",
    "\n",
    "# Loop through each order ID\n",
    "for order_id in order_ids:\n",
    "    # Print the details\n",
    "    print(df[df['order_id'] == order_id][columns_to_show])\n",
    "    \n",
    "    # Print the total\n",
    "    total = df[df['order_id'] == order_id]['line_price'].sum()\n",
    "    print(f\"Order ID {order_id} had a total price of ${total:,.2f}\")\n",
    "    \n",
    "    # Print separator\n",
    "    print(\"-\" * 100)"
   ]
  },
  {
   "cell_type": "markdown",
   "id": "b94d58ab",
   "metadata": {},
   "source": [
    "## Part 4: Summarize and Analyze\n",
    "Use the new columns with confirmed values to find the following information."
   ]
  },
  {
   "cell_type": "code",
   "execution_count": 58,
   "id": "f79ab6d8",
   "metadata": {},
   "outputs": [
    {
     "name": "stdout",
     "output_type": "stream",
     "text": [
      "Client ID 33615 had a total price of $8,377,308.52\n",
      "----------------------------------------------------------------------------------------------------\n",
      "Client ID 66037 had a total price of $10,259,514.79\n",
      "----------------------------------------------------------------------------------------------------\n",
      "Client ID 46820 had a total price of $9,743,794.36\n",
      "----------------------------------------------------------------------------------------------------\n",
      "Client ID 38378 had a total price of $12,906,550.87\n",
      "----------------------------------------------------------------------------------------------------\n",
      "Client ID 24741 had a total price of $82,268,892.02\n",
      "----------------------------------------------------------------------------------------------------\n"
     ]
    }
   ],
   "source": [
    "# How much did each of the top 5 clients by quantity spend? Check your work from Part 1 for client ids.\n",
    "\n",
    "\"\"\"\n",
    "# Test with a simpler code:\n",
    "# I want to see the details first and then the total for each of the client id 33615:\n",
    "print(df[df['client_id'] == 33615][['client_id', 'line_price']])\n",
    "print(f\"Client ID {33615} had a total price of ${df[df['client_id'] == 33615]['line_price'].sum():,.2f}\")\n",
    "print(\"------------------------------------------------------------------------------------------------------------------------\")\n",
    "\"\"\"\n",
    "\n",
    "# Define the client IDs and columns we want to see\n",
    "top_client_ids\n",
    "columns_to_show = ['client_id', 'line_price']\n",
    "\n",
    "# Loop through each client ID the sum\n",
    "for client_id in top_client_ids:\n",
    "    # Print the details if necessary to check\n",
    "    # print(df[df['client_id'] == client_id][columns_to_show])\n",
    "    \n",
    "    # Print the total\n",
    "    total = df[df['client_id'] == client_id]['line_price'].sum()\n",
    "    print(f\"Client ID {client_id} had a total price of ${total:,.2f}\")\n",
    "    \n",
    "    # Print separator\n",
    "    print(\"-\" * 100)"
   ]
  },
  {
   "cell_type": "code",
   "execution_count": 52,
   "id": "2fb61803",
   "metadata": {},
   "outputs": [
    {
     "name": "stdout",
     "output_type": "stream",
     "text": [
      "[33615, 66037, 46820, 38378, 24741]\n",
      "Total for Client 24741: $82,268,892.02\n",
      "----------------------------------------------------------------------------------------------------\n",
      "Total for Client 33615: $8,377,308.52\n",
      "----------------------------------------------------------------------------------------------------\n",
      "Total for Client 38378: $12,906,550.87\n",
      "----------------------------------------------------------------------------------------------------\n",
      "Total for Client 46820: $9,743,794.36\n",
      "----------------------------------------------------------------------------------------------------\n",
      "Total for Client 66037: $10,259,514.79\n",
      "----------------------------------------------------------------------------------------------------\n"
     ]
    }
   ],
   "source": [
    "#### EXTRA ####\n",
    "## OR use this group by approach, the order is a bit different than above but same results\n",
    "print(top_client_ids)\n",
    "\n",
    "client_totals = df[df['client_id'].isin(top_client_ids)].groupby('client_id')['line_price'].sum()\n",
    "for client_id, total in client_totals.items():\n",
    "    print(f\"Total for Client {client_id}: ${total:,.2f}\")\n",
    "    print(\"-\" * 100)"
   ]
  },
  {
   "cell_type": "markdown",
   "id": "5edf8e61",
   "metadata": {},
   "source": [
    "Instructions:\n",
    "* Format the data and rename the columns to names suitable for presentation.\n",
    "\n",
    "* Define the money columns. \n",
    "\n",
    "* Define a function that converts a dollar amount to millions.\n",
    "\n",
    "* Apply the currency_format_millions function to only the money columns. \n",
    "\n",
    "* Rename the columns to reflect the change in the money format. "
   ]
  },
  {
   "cell_type": "code",
   "execution_count": 59,
   "id": "35054270",
   "metadata": {},
   "outputs": [
    {
     "name": "stdout",
     "output_type": "stream",
     "text": [
      "   client_id     qty  shipping_price   line_price    line_cost  line_profit\n",
      "0      33615   64313      1828984.89   8377308.52   6175313.91   2201994.61\n",
      "1      66037   43018      1395151.85  10259514.79   7004482.98   3255031.81\n",
      "2      46820   75768      1601448.84   9743794.36   7007191.64   2736602.72\n",
      "3      38378   73667      3429455.40  12906550.87   9634720.98   3271829.89\n",
      "4      24741  239862      5126448.37  82268892.02  45688899.71  36579992.31\n"
     ]
    }
   ],
   "source": [
    "# Create a summary DataFrame showing the totals for the top 5 clients with the following information:\n",
    "# total units purchased, total shipping price, total revenue, and total profit. \n",
    "\n",
    "summary_data = []\n",
    "for client_id in top_client_ids:\n",
    "    client_df = df[df['client_id'] == client_id]\n",
    "    \n",
    "    client_summary = {\n",
    "        'client_id': client_id,\n",
    "        'qty': client_df['qty'].sum(),\n",
    "        'shipping_price': client_df['shipping_price'].sum(),\n",
    "        'line_price': client_df['line_price'].sum(),\n",
    "        'line_cost': client_df['line_cost'].sum(),\n",
    "        'line_profit': client_df['line_profit'].sum()\n",
    "    }\n",
    "    summary_data.append(client_summary)\n",
    "\n",
    "# Create Data Frame from summary_data above\n",
    "summary_df = pd.DataFrame(summary_data)\n",
    "\n",
    "print(summary_df)"
   ]
  },
  {
   "cell_type": "code",
   "execution_count": 60,
   "id": "11728f0b",
   "metadata": {},
   "outputs": [
    {
     "name": "stdout",
     "output_type": "stream",
     "text": [
      "   Client ID   Units Shipping (millions) Total Revenue (millions) Total Cost (millions) Total Profit (millions)\n",
      "0      33615   64313           $1.828985                $8.377309             $6.175314               $2.201995\n",
      "1      66037   43018           $1.395152               $10.259515             $7.004483               $3.255032\n",
      "2      46820   75768           $1.601449                $9.743794             $7.007192               $2.736603\n",
      "3      38378   73667           $3.429455               $12.906551             $9.634721               $3.271830\n",
      "4      24741  239862           $5.126448               $82.268892            $45.688900              $36.579992\n"
     ]
    }
   ],
   "source": [
    "#### this section relies heavily from the section above it, otherwise you will get an error\n",
    "\n",
    "# Convert money values to millions using a function\n",
    "money_columns = ['shipping_price', 'line_price', 'line_cost', 'line_profit']\n",
    "for column in money_columns:\n",
    "    summary_df[column] = summary_df[column] / 1000000\n",
    "    \n",
    "\n",
    "# Rename columns to make it suitable for presentation\n",
    "new_column_names = {\n",
    "    'client_id': 'Client ID',\n",
    "    'qty': 'Units',\n",
    "    'shipping_price': 'Shipping (millions)',\n",
    "    'line_price': 'Total Revenue (millions)',\n",
    "    'line_cost': 'Total Cost (millions)',\n",
    "    'line_profit': 'Total Profit (millions)'\n",
    "}\n",
    "summary_df = summary_df.rename(columns=new_column_names)\n",
    "\n",
    "# I want to add dollar formatting to the renamed columns\n",
    "formatted_money_columns = ['Shipping (millions)', 'Total Revenue (millions)', \n",
    "                         'Total Cost (millions)', 'Total Profit (millions)']\n",
    "for column in formatted_money_columns:\n",
    "    summary_df[column] = summary_df[column].map('${:,.6f}'.format)\n",
    "\n",
    "print(summary_df)"
   ]
  },
  {
   "cell_type": "code",
   "execution_count": 61,
   "id": "e86471b6",
   "metadata": {},
   "outputs": [
    {
     "name": "stdout",
     "output_type": "stream",
     "text": [
      "\n",
      "Final sorted summary:\n",
      "   Client ID   Units Shipping (millions) Total Revenue (millions) Total Cost (millions) Total Profit (millions)\n",
      "4      24741  239862           $5.126448               $82.268892            $45.688900              $36.579992\n",
      "3      38378   73667           $3.429455               $12.906551             $9.634721               $3.271830\n",
      "1      66037   43018           $1.395152               $10.259515             $7.004483               $3.255032\n",
      "2      46820   75768           $1.601449                $9.743794             $7.007192               $2.736603\n",
      "0      33615   64313           $1.828985                $8.377309             $6.175314               $2.201995\n"
     ]
    }
   ],
   "source": [
    "# Sort the updated data by \"Total Profit (millions)\" form highest to lowest and assign the sort to a new DataFrame.\n",
    "sorted_by_total_profit_df = summary_df.sort_values('Total Profit (millions)', ascending=False) #ascending = False means it's descending order\n",
    "print(\"\\nFinal sorted summary:\")\n",
    "print(sorted_by_total_profit_df)"
   ]
  },
  {
   "cell_type": "markdown",
   "id": "1fc6e6a0",
   "metadata": {},
   "source": [
    "# SUMMARY \n",
    "* On the last part above, I wanted to show that the values in all columns with suffix (millions) are reflected in $ amounts, hence the $ sign\n",
    "* Client ID 24741 has the highest total profit $36.579992 Millions\n",
    "* Client ID 33615 has the lowest total profit $2.201995 Millions\n",
    "* The final sorted summary report did not have the index resetted, so if we need to reset it so it would show consequential 0,1,2,3,4 then we need to add the following statement\n",
    "sorted_by_total_profit_df = sorted_by_total_profit_df.reset_index(drop=True)\n",
    "* See example below"
   ]
  },
  {
   "cell_type": "code",
   "execution_count": 62,
   "id": "b8104467",
   "metadata": {},
   "outputs": [
    {
     "name": "stdout",
     "output_type": "stream",
     "text": [
      "\n",
      "Final sorted summary:\n",
      "   Client ID   Units Shipping (millions) Total Revenue (millions) Total Cost (millions) Total Profit (millions)\n",
      "0      24741  239862           $5.126448               $82.268892            $45.688900              $36.579992\n",
      "1      38378   73667           $3.429455               $12.906551             $9.634721               $3.271830\n",
      "2      66037   43018           $1.395152               $10.259515             $7.004483               $3.255032\n",
      "3      46820   75768           $1.601449                $9.743794             $7.007192               $2.736603\n",
      "4      33615   64313           $1.828985                $8.377309             $6.175314               $2.201995\n"
     ]
    }
   ],
   "source": [
    "# Make the index shows consequential, same result for other columns as above\n",
    "sorted_by_total_profit_df = summary_df.sort_values('Total Profit (millions)', ascending=False)\n",
    "sorted_by_total_profit_df = sorted_by_total_profit_df.reset_index(drop=True)\n",
    "print(\"\\nFinal sorted summary:\")\n",
    "print(sorted_by_total_profit_df)"
   ]
  }
 ],
 "metadata": {
  "kernelspec": {
   "display_name": "dev",
   "language": "python",
   "name": "python3"
  },
  "language_info": {
   "codemirror_mode": {
    "name": "ipython",
    "version": 3
   },
   "file_extension": ".py",
   "mimetype": "text/x-python",
   "name": "python",
   "nbconvert_exporter": "python",
   "pygments_lexer": "ipython3",
   "version": "3.12.7"
  }
 },
 "nbformat": 4,
 "nbformat_minor": 5
}
